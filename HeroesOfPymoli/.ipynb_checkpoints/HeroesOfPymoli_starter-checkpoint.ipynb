{
 "cells": [
  {
   "cell_type": "markdown",
   "metadata": {},
   "source": [
    "### Note\n",
    "* Instructions have been included for each segment. You do not have to follow them exactly, but they are included to help you think through the steps."
   ]
  },
  {
   "cell_type": "code",
   "execution_count": 166,
   "metadata": {},
   "outputs": [],
   "source": [
    "#Jason Johnson, cell 617-999-6639\n",
    "# Pandas Homework\n",
    "\n",
    "# Dependencies and Setup\n",
    "import pandas as pd\n",
    "\n",
    "# File to Load (Remember to Change These)\n",
    "file_to_load = \"Resources/purchase_data.csv\"\n",
    "\n",
    "# Read Purchasing File and store into Pandas data frame\n",
    "purchase_data = pd.read_csv(file_to_load)"
   ]
  },
  {
   "cell_type": "markdown",
   "metadata": {},
   "source": [
    "## Player Count"
   ]
  },
  {
   "cell_type": "markdown",
   "metadata": {},
   "source": [
    "* Display the total number of players\n"
   ]
  },
  {
   "cell_type": "code",
   "execution_count": 167,
   "metadata": {},
   "outputs": [
    {
     "data": {
      "text/html": [
       "<div>\n",
       "<style scoped>\n",
       "    .dataframe tbody tr th:only-of-type {\n",
       "        vertical-align: middle;\n",
       "    }\n",
       "\n",
       "    .dataframe tbody tr th {\n",
       "        vertical-align: top;\n",
       "    }\n",
       "\n",
       "    .dataframe thead th {\n",
       "        text-align: right;\n",
       "    }\n",
       "</style>\n",
       "<table border=\"1\" class=\"dataframe\">\n",
       "  <thead>\n",
       "    <tr style=\"text-align: right;\">\n",
       "      <th></th>\n",
       "      <th>Total Players</th>\n",
       "    </tr>\n",
       "  </thead>\n",
       "  <tbody>\n",
       "    <tr>\n",
       "      <td>0</td>\n",
       "      <td>576</td>\n",
       "    </tr>\n",
       "  </tbody>\n",
       "</table>\n",
       "</div>"
      ],
      "text/plain": [
       "   Total Players\n",
       "0            576"
      ]
     },
     "execution_count": 167,
     "metadata": {},
     "output_type": "execute_result"
    }
   ],
   "source": [
    "# Get the total number of unique Screen Names from the df.\n",
    "\n",
    "player_count = (purchase_data[\"SN\"].nunique())\n",
    "player_count_table = pd.DataFrame({\"Total Players\": [player_count]})\n",
    "player_count_table"
   ]
  },
  {
   "cell_type": "markdown",
   "metadata": {},
   "source": [
    "## Purchasing Analysis (Total)"
   ]
  },
  {
   "cell_type": "markdown",
   "metadata": {},
   "source": [
    "* Run basic calculations to obtain number of unique items, average price, etc.\n",
    "\n",
    "\n",
    "* Create a summary data frame to hold the results\n",
    "\n",
    "\n",
    "* Optional: give the displayed data cleaner formatting\n",
    "\n",
    "\n",
    "* Display the summary data frame\n"
   ]
  },
  {
   "cell_type": "code",
   "execution_count": 168,
   "metadata": {
    "scrolled": true
   },
   "outputs": [
    {
     "data": {
      "text/html": [
       "<style  type=\"text/css\" >\n",
       "</style><table id=\"T_20297ba2_5b42_11ea_9a0d_acde48001122\" ><thead>    <tr>        <th class=\"blank level0\" ></th>        <th class=\"col_heading level0 col0\" >Number of Unique Items</th>        <th class=\"col_heading level0 col1\" >Average Price</th>        <th class=\"col_heading level0 col2\" >Number of Purchases</th>        <th class=\"col_heading level0 col3\" >Total Revenue</th>    </tr></thead><tbody>\n",
       "                <tr>\n",
       "                        <th id=\"T_20297ba2_5b42_11ea_9a0d_acde48001122level0_row0\" class=\"row_heading level0 row0\" >0</th>\n",
       "                        <td id=\"T_20297ba2_5b42_11ea_9a0d_acde48001122row0_col0\" class=\"data row0 col0\" >183</td>\n",
       "                        <td id=\"T_20297ba2_5b42_11ea_9a0d_acde48001122row0_col1\" class=\"data row0 col1\" >$3.05</td>\n",
       "                        <td id=\"T_20297ba2_5b42_11ea_9a0d_acde48001122row0_col2\" class=\"data row0 col2\" >780</td>\n",
       "                        <td id=\"T_20297ba2_5b42_11ea_9a0d_acde48001122row0_col3\" class=\"data row0 col3\" >$2,379.77</td>\n",
       "            </tr>\n",
       "    </tbody></table>"
      ],
      "text/plain": [
       "<pandas.io.formats.style.Styler at 0x7fc8785268d0>"
      ]
     },
     "execution_count": 168,
     "metadata": {},
     "output_type": "execute_result"
    }
   ],
   "source": [
    "# Get the # of unique items, avg purchase price, total # of purchases, \n",
    "# and total revenue.\n",
    "\n",
    "item_count = purchase_data[\"Item ID\"].nunique()\n",
    "avg_purchase_price = round((purchase_data[\"Price\"].mean()),2)\n",
    "purchase_count = (purchase_data[\"Purchase ID\"].count())\n",
    "total_revenue = purchase_data[\"Price\"].sum()\n",
    "\n",
    "# Create a dataframe for the new data.\n",
    "purchase_analysis_table = pd.DataFrame({\"Number of Unique Items\": [item_count],\n",
    "                                       \"Average Price\": [avg_purchase_price],\n",
    "                                       \"Number of Purchases\" : [purchase_count],\n",
    "                                       \"Total Revenue\" : [total_revenue]})\n",
    "\n",
    "# Format and display the DF.\n",
    "purchase_analysis_table.style.format({\"Average Price\": \"${:,.2f}\", \"Total Revenue\": \"${:,.2f}\"})"
   ]
  },
  {
   "cell_type": "markdown",
   "metadata": {},
   "source": [
    "## Gender Demographics"
   ]
  },
  {
   "cell_type": "markdown",
   "metadata": {},
   "source": [
    "* Percentage and Count of Male Players\n",
    "\n",
    "\n",
    "* Percentage and Count of Female Players\n",
    "\n",
    "\n",
    "* Percentage and Count of Other / Non-Disclosed\n",
    "\n",
    "\n"
   ]
  },
  {
   "cell_type": "code",
   "execution_count": 169,
   "metadata": {},
   "outputs": [
    {
     "data": {
      "text/html": [
       "<style  type=\"text/css\" >\n",
       "</style><table id=\"T_213bc2a2_5b42_11ea_9a0d_acde48001122\" ><thead>    <tr>        <th class=\"blank level0\" ></th>        <th class=\"col_heading level0 col0\" >Purchase Count</th>        <th class=\"col_heading level0 col1\" >Percentage of Players</th>    </tr>    <tr>        <th class=\"index_name level0\" >Gender</th>        <th class=\"blank\" ></th>        <th class=\"blank\" ></th>    </tr></thead><tbody>\n",
       "                <tr>\n",
       "                        <th id=\"T_213bc2a2_5b42_11ea_9a0d_acde48001122level0_row0\" class=\"row_heading level0 row0\" >Male</th>\n",
       "                        <td id=\"T_213bc2a2_5b42_11ea_9a0d_acde48001122row0_col0\" class=\"data row0 col0\" >484</td>\n",
       "                        <td id=\"T_213bc2a2_5b42_11ea_9a0d_acde48001122row0_col1\" class=\"data row0 col1\" >84.03%</td>\n",
       "            </tr>\n",
       "            <tr>\n",
       "                        <th id=\"T_213bc2a2_5b42_11ea_9a0d_acde48001122level0_row1\" class=\"row_heading level0 row1\" >Female</th>\n",
       "                        <td id=\"T_213bc2a2_5b42_11ea_9a0d_acde48001122row1_col0\" class=\"data row1 col0\" >81</td>\n",
       "                        <td id=\"T_213bc2a2_5b42_11ea_9a0d_acde48001122row1_col1\" class=\"data row1 col1\" >14.06%</td>\n",
       "            </tr>\n",
       "            <tr>\n",
       "                        <th id=\"T_213bc2a2_5b42_11ea_9a0d_acde48001122level0_row2\" class=\"row_heading level0 row2\" >Other / Non-Disclosed</th>\n",
       "                        <td id=\"T_213bc2a2_5b42_11ea_9a0d_acde48001122row2_col0\" class=\"data row2 col0\" >11</td>\n",
       "                        <td id=\"T_213bc2a2_5b42_11ea_9a0d_acde48001122row2_col1\" class=\"data row2 col1\" >1.91%</td>\n",
       "            </tr>\n",
       "    </tbody></table>"
      ],
      "text/plain": [
       "<pandas.io.formats.style.Styler at 0x7fc8bb132350>"
      ]
     },
     "execution_count": 169,
     "metadata": {},
     "output_type": "execute_result"
    }
   ],
   "source": [
    "# First drop duplicate screen names.\n",
    "unique_sn_purchase_data = purchase_data.sort_values(\"SN\", ascending= False)\n",
    "unique_sn_purchase_data.drop_duplicates(subset=\"SN\", inplace=True)\n",
    "\n",
    "# Gets counts by gender.\n",
    "gender_counts = unique_sn_purchase_data[\"Gender\"].value_counts()\n",
    "gender_percents = unique_sn_purchase_data[\"Gender\"].value_counts(normalize=True)\n",
    "\n",
    "# Counts for each gender.\n",
    "male_count = (gender_counts[0])\n",
    "female_count = (gender_counts[1])\n",
    "other_count = (gender_counts[2])\n",
    "\n",
    "# Percents for each gender.\n",
    "male_percent = (gender_percents[0])\n",
    "female_percent = (gender_percents[1])\n",
    "other_percent = (gender_percents[2])\n",
    "\n",
    "# Create a DF with the new data.\n",
    "gender_table = pd.DataFrame({\"Gender\" : [\"Male\", \"Female\", \"Other / Non-Disclosed\"], \n",
    "                                        \"Purchase Count\": [male_count, female_count, other_count],\n",
    "                                       \"Percentage of Players\": [male_percent, female_percent, other_percent]})\n",
    "\n",
    "new_gender_table = gender_table.set_index(\"Gender\")\n",
    "new_gender_table.style.format({\"Percentage of Players\": \"{:.2%}\"})"
   ]
  },
  {
   "cell_type": "markdown",
   "metadata": {},
   "source": [
    "\n",
    "## Purchasing Analysis (Gender)"
   ]
  },
  {
   "cell_type": "markdown",
   "metadata": {},
   "source": [
    "* Run basic calculations to obtain purchase count, avg. purchase price, avg. purchase total per person etc. by gender\n",
    "\n",
    "\n",
    "\n",
    "\n",
    "* Create a summary data frame to hold the results\n",
    "\n",
    "\n",
    "* Optional: give the displayed data cleaner formatting\n",
    "\n",
    "\n",
    "* Display the summary data frame"
   ]
  },
  {
   "cell_type": "code",
   "execution_count": 170,
   "metadata": {},
   "outputs": [
    {
     "data": {
      "text/html": [
       "<style  type=\"text/css\" >\n",
       "</style><table id=\"T_226f4da6_5b42_11ea_9a0d_acde48001122\" ><thead>    <tr>        <th class=\"blank level0\" ></th>        <th class=\"col_heading level0 col0\" >Purchase Count</th>        <th class=\"col_heading level0 col1\" >Average Purchase Price</th>        <th class=\"col_heading level0 col2\" >Total Purchase Value</th>        <th class=\"col_heading level0 col3\" >Avg Purchase Total per Person</th>    </tr>    <tr>        <th class=\"index_name level0\" >Gender</th>        <th class=\"blank\" ></th>        <th class=\"blank\" ></th>        <th class=\"blank\" ></th>        <th class=\"blank\" ></th>    </tr></thead><tbody>\n",
       "                <tr>\n",
       "                        <th id=\"T_226f4da6_5b42_11ea_9a0d_acde48001122level0_row0\" class=\"row_heading level0 row0\" >Male</th>\n",
       "                        <td id=\"T_226f4da6_5b42_11ea_9a0d_acde48001122row0_col0\" class=\"data row0 col0\" >652</td>\n",
       "                        <td id=\"T_226f4da6_5b42_11ea_9a0d_acde48001122row0_col1\" class=\"data row0 col1\" >$3.02</td>\n",
       "                        <td id=\"T_226f4da6_5b42_11ea_9a0d_acde48001122row0_col2\" class=\"data row0 col2\" >$1,967.64</td>\n",
       "                        <td id=\"T_226f4da6_5b42_11ea_9a0d_acde48001122row0_col3\" class=\"data row0 col3\" >$4.07</td>\n",
       "            </tr>\n",
       "            <tr>\n",
       "                        <th id=\"T_226f4da6_5b42_11ea_9a0d_acde48001122level0_row1\" class=\"row_heading level0 row1\" >Female</th>\n",
       "                        <td id=\"T_226f4da6_5b42_11ea_9a0d_acde48001122row1_col0\" class=\"data row1 col0\" >113</td>\n",
       "                        <td id=\"T_226f4da6_5b42_11ea_9a0d_acde48001122row1_col1\" class=\"data row1 col1\" >$3.20</td>\n",
       "                        <td id=\"T_226f4da6_5b42_11ea_9a0d_acde48001122row1_col2\" class=\"data row1 col2\" >$361.94</td>\n",
       "                        <td id=\"T_226f4da6_5b42_11ea_9a0d_acde48001122row1_col3\" class=\"data row1 col3\" >$4.47</td>\n",
       "            </tr>\n",
       "            <tr>\n",
       "                        <th id=\"T_226f4da6_5b42_11ea_9a0d_acde48001122level0_row2\" class=\"row_heading level0 row2\" >Other / Non-Disclosed</th>\n",
       "                        <td id=\"T_226f4da6_5b42_11ea_9a0d_acde48001122row2_col0\" class=\"data row2 col0\" >15</td>\n",
       "                        <td id=\"T_226f4da6_5b42_11ea_9a0d_acde48001122row2_col1\" class=\"data row2 col1\" >$3.35</td>\n",
       "                        <td id=\"T_226f4da6_5b42_11ea_9a0d_acde48001122row2_col2\" class=\"data row2 col2\" >$50.19</td>\n",
       "                        <td id=\"T_226f4da6_5b42_11ea_9a0d_acde48001122row2_col3\" class=\"data row2 col3\" >$4.56</td>\n",
       "            </tr>\n",
       "    </tbody></table>"
      ],
      "text/plain": [
       "<pandas.io.formats.style.Styler at 0x7fc84801a090>"
      ]
     },
     "execution_count": 170,
     "metadata": {},
     "output_type": "execute_result"
    }
   ],
   "source": [
    "# Get the overall item count, average purchase price and total revenue for the DF.\n",
    "item_count = purchase_data[\"Item Name\"].nunique()\n",
    "avg_purchase_price = round((purchase_data[\"Price\"].mean()),2)\n",
    "total_revenue = purchase_data[\"Price\"].sum()\n",
    "\n",
    "#Filter the data so that only specific gender purchase data is in a DF\n",
    "male_purchase_data = purchase_data.loc[purchase_data[\"Gender\"] == \"Male\", :]\n",
    "female_purchase_data = purchase_data.loc[purchase_data[\"Gender\"] == \"Female\", :]\n",
    "other_purchase_data = purchase_data.loc[purchase_data[\"Gender\"] == \"Other / Non-Disclosed\", :]\n",
    "\n",
    "#Identify the # of purchases, average purchase price and the total revenue by gender.\n",
    "male_item_count = male_purchase_data[\"Purchase ID\"].nunique()\n",
    "male_avg_purchase_price = round((male_purchase_data[\"Price\"].mean()),2)\n",
    "male_total_revenue = male_purchase_data[\"Price\"].sum()\n",
    "\n",
    "female_item_count = female_purchase_data[\"Purchase ID\"].nunique()\n",
    "female_avg_purchase_price = round((female_purchase_data[\"Price\"].mean()),2)\n",
    "female_total_revenue = female_purchase_data[\"Price\"].sum()\n",
    "\n",
    "other_item_count = other_purchase_data[\"Purchase ID\"].nunique()\n",
    "other_avg_purchase_price = round((other_purchase_data[\"Price\"].mean()),2)\n",
    "other_total_revenue = other_purchase_data[\"Price\"].sum()\n",
    "\n",
    "# Using GroupBy in order to separate the data into fields according to \"SN\" values\n",
    "grouped_male_counts_data = male_purchase_data.groupby([\"SN\"])\n",
    "grouped_female_counts_data = female_purchase_data.groupby([\"SN\"])\n",
    "grouped_other_counts_data = other_purchase_data.groupby([\"SN\"])\n",
    "\n",
    "#Get sum of purchases for each SN\n",
    "purchase_by_sn_male = grouped_male_counts_data[\"Price\"].sum()\n",
    "purchase_by_sn_female = grouped_female_counts_data[\"Price\"].sum()\n",
    "purchase_by_sn_other = grouped_other_counts_data[\"Price\"].sum()\n",
    "\n",
    "#Create a summary table of total purchases by SN\n",
    "male_summary_table = pd.DataFrame({\"Total Purchases\": purchase_by_sn_male})\n",
    "female_summary_table = pd.DataFrame({\"Total Purchases\": purchase_by_sn_female})\n",
    "other_summary_table = pd.DataFrame({\"Total Purchases\": purchase_by_sn_other})\n",
    "\n",
    "#Calculate the mean purchase by SN\n",
    "avg_male_purchase_price = round((male_summary_table[\"Total Purchases\"].mean()),2)\n",
    "avg_female_purchase_price = round((female_summary_table[\"Total Purchases\"].mean()),2)\n",
    "avg_other_purchase_price = round((other_summary_table[\"Total Purchases\"].mean()),2)\n",
    "\n",
    "# Place all of the data found into a summary DataFrame\n",
    "gender_summary_table = pd.DataFrame({\"Gender\": [\"Male\", \"Female\", \"Other / Non-Disclosed\"],\n",
    "                              \"Purchase Count\": [male_item_count, female_item_count, other_item_count],\n",
    "                              \"Average Purchase Price\": [male_avg_purchase_price, female_avg_purchase_price, other_avg_purchase_price],\n",
    "                              \"Total Purchase Value\": [male_total_revenue, female_total_revenue, other_total_revenue],\n",
    "                            \"Avg Purchase Total per Person\": [avg_male_purchase_price, avg_female_purchase_price, avg_other_purchase_price]})\n",
    "\n",
    "# Format and display the DF.\n",
    "new_gender_summary_table = gender_summary_table.set_index(\"Gender\")\n",
    "new_gender_summary_table.style.format({\"Average Purchase Price\": \"${:,.2f}\", \"Total Purchase Value\": \"${:,.2f}\",\n",
    "                                   \"Avg Purchase Total per Person\": \"${:,.2f}\"})"
   ]
  },
  {
   "cell_type": "markdown",
   "metadata": {},
   "source": [
    "## Age Demographics"
   ]
  },
  {
   "cell_type": "markdown",
   "metadata": {},
   "source": [
    "* Establish bins for ages\n",
    "\n",
    "\n",
    "* Categorize the existing players using the age bins. Hint: use pd.cut()\n",
    "\n",
    "\n",
    "* Calculate the numbers and percentages by age group\n",
    "\n",
    "\n",
    "* Create a summary data frame to hold the results\n",
    "\n",
    "\n",
    "* Optional: round the percentage column to two decimal points\n",
    "\n",
    "\n",
    "* Display Age Demographics Table\n"
   ]
  },
  {
   "cell_type": "code",
   "execution_count": 171,
   "metadata": {},
   "outputs": [
    {
     "data": {
      "text/html": [
       "<style  type=\"text/css\" >\n",
       "</style><table id=\"T_24282460_5b42_11ea_9a0d_acde48001122\" ><thead>    <tr>        <th class=\"blank level0\" ></th>        <th class=\"col_heading level0 col0\" >Number of Players</th>        <th class=\"col_heading level0 col1\" >Percent of Players</th>    </tr>    <tr>        <th class=\"index_name level0\" >Age Demographics</th>        <th class=\"blank\" ></th>        <th class=\"blank\" ></th>    </tr></thead><tbody>\n",
       "                <tr>\n",
       "                        <th id=\"T_24282460_5b42_11ea_9a0d_acde48001122level0_row0\" class=\"row_heading level0 row0\" ><10</th>\n",
       "                        <td id=\"T_24282460_5b42_11ea_9a0d_acde48001122row0_col0\" class=\"data row0 col0\" >17</td>\n",
       "                        <td id=\"T_24282460_5b42_11ea_9a0d_acde48001122row0_col1\" class=\"data row0 col1\" >2.95%</td>\n",
       "            </tr>\n",
       "            <tr>\n",
       "                        <th id=\"T_24282460_5b42_11ea_9a0d_acde48001122level0_row1\" class=\"row_heading level0 row1\" >10-14</th>\n",
       "                        <td id=\"T_24282460_5b42_11ea_9a0d_acde48001122row1_col0\" class=\"data row1 col0\" >22</td>\n",
       "                        <td id=\"T_24282460_5b42_11ea_9a0d_acde48001122row1_col1\" class=\"data row1 col1\" >3.82%</td>\n",
       "            </tr>\n",
       "            <tr>\n",
       "                        <th id=\"T_24282460_5b42_11ea_9a0d_acde48001122level0_row2\" class=\"row_heading level0 row2\" >15-19</th>\n",
       "                        <td id=\"T_24282460_5b42_11ea_9a0d_acde48001122row2_col0\" class=\"data row2 col0\" >107</td>\n",
       "                        <td id=\"T_24282460_5b42_11ea_9a0d_acde48001122row2_col1\" class=\"data row2 col1\" >18.58%</td>\n",
       "            </tr>\n",
       "            <tr>\n",
       "                        <th id=\"T_24282460_5b42_11ea_9a0d_acde48001122level0_row3\" class=\"row_heading level0 row3\" >20-24</th>\n",
       "                        <td id=\"T_24282460_5b42_11ea_9a0d_acde48001122row3_col0\" class=\"data row3 col0\" >258</td>\n",
       "                        <td id=\"T_24282460_5b42_11ea_9a0d_acde48001122row3_col1\" class=\"data row3 col1\" >44.79%</td>\n",
       "            </tr>\n",
       "            <tr>\n",
       "                        <th id=\"T_24282460_5b42_11ea_9a0d_acde48001122level0_row4\" class=\"row_heading level0 row4\" >25-29</th>\n",
       "                        <td id=\"T_24282460_5b42_11ea_9a0d_acde48001122row4_col0\" class=\"data row4 col0\" >77</td>\n",
       "                        <td id=\"T_24282460_5b42_11ea_9a0d_acde48001122row4_col1\" class=\"data row4 col1\" >13.37%</td>\n",
       "            </tr>\n",
       "            <tr>\n",
       "                        <th id=\"T_24282460_5b42_11ea_9a0d_acde48001122level0_row5\" class=\"row_heading level0 row5\" >30-34</th>\n",
       "                        <td id=\"T_24282460_5b42_11ea_9a0d_acde48001122row5_col0\" class=\"data row5 col0\" >52</td>\n",
       "                        <td id=\"T_24282460_5b42_11ea_9a0d_acde48001122row5_col1\" class=\"data row5 col1\" >9.03%</td>\n",
       "            </tr>\n",
       "            <tr>\n",
       "                        <th id=\"T_24282460_5b42_11ea_9a0d_acde48001122level0_row6\" class=\"row_heading level0 row6\" >35-39</th>\n",
       "                        <td id=\"T_24282460_5b42_11ea_9a0d_acde48001122row6_col0\" class=\"data row6 col0\" >31</td>\n",
       "                        <td id=\"T_24282460_5b42_11ea_9a0d_acde48001122row6_col1\" class=\"data row6 col1\" >5.38%</td>\n",
       "            </tr>\n",
       "            <tr>\n",
       "                        <th id=\"T_24282460_5b42_11ea_9a0d_acde48001122level0_row7\" class=\"row_heading level0 row7\" >40+</th>\n",
       "                        <td id=\"T_24282460_5b42_11ea_9a0d_acde48001122row7_col0\" class=\"data row7 col0\" >12</td>\n",
       "                        <td id=\"T_24282460_5b42_11ea_9a0d_acde48001122row7_col1\" class=\"data row7 col1\" >2.08%</td>\n",
       "            </tr>\n",
       "    </tbody></table>"
      ],
      "text/plain": [
       "<pandas.io.formats.style.Styler at 0x7fc87850a0d0>"
      ]
     },
     "execution_count": 171,
     "metadata": {},
     "output_type": "execute_result"
    }
   ],
   "source": [
    "# Create the bins in which Data will be held  \n",
    "bins = [0, 9, 14, 19, 24, 29, 34, 39, 100]\n",
    "\n",
    "# Create the names for the four bins\n",
    "group_names = [\"<10\", \"10-14\", \"15-19\", \"20-24\", \"25-29\", \"30-34\", \"35-39\", \"40+\"]\n",
    "\n",
    "#Place the new data series \"Age Demographics\" into a new column inside of the DF\n",
    "purchase_data[\"Age Demographics\"] = pd.cut(purchase_data[\"Age\"], bins, labels=group_names)\n",
    "\n",
    "#Group by the age bins.\n",
    "age_purchase_data = purchase_data.groupby(\"Age Demographics\")\n",
    "\n",
    "#Get the count and percent of players for each bin\n",
    "age_count = age_purchase_data[\"SN\"].nunique()\n",
    "age_percent = age_purchase_data[\"SN\"].nunique() / player_count\n",
    "age_purchase_count = age_purchase_data[\"Purchase ID\"].count()\n",
    "age_avg_purchase_price = age_purchase_data[\"Price\"].mean()\n",
    "age_total_purchase_value = age_purchase_data[\"Price\"].sum()\n",
    "\n",
    "#Group by age and SN\n",
    "age_sn_purchase_data = purchase_data.groupby([\"Age Demographics\", \"SN\"])\n",
    "age_sum_purchase_person = age_sn_purchase_data[\"Price\"].sum()\n",
    "age_number_purchase_person = age_sn_purchase_data[\"Purchase ID\"].count()\n",
    "age_avg_cost_purchase_person = age_sum_purchase_person / age_number_purchase_person\n",
    "\n",
    "#Setting up raw dataframe\n",
    "age_purchase_data = {\"Number of Players\":age_count,\n",
    "                \"Percent of Players\":age_percent}\n",
    "\n",
    "age_analysis = pd.DataFrame(age_purchase_data)\n",
    "age_analysis.style.format({\"Percent of Players\": \"{:.2%}\"})"
   ]
  },
  {
   "cell_type": "markdown",
   "metadata": {},
   "source": [
    "## Purchasing Analysis (Age)"
   ]
  },
  {
   "cell_type": "markdown",
   "metadata": {},
   "source": [
    "* Bin the purchase_data data frame by age\n",
    "\n",
    "\n",
    "* Run basic calculations to obtain purchase count, avg. purchase price, avg. purchase total per person etc. in the table below\n",
    "\n",
    "\n",
    "* Create a summary data frame to hold the results\n",
    "\n",
    "\n",
    "* Optional: give the displayed data cleaner formatting\n",
    "\n",
    "\n",
    "* Display the summary data frame"
   ]
  },
  {
   "cell_type": "code",
   "execution_count": 172,
   "metadata": {},
   "outputs": [
    {
     "data": {
      "text/html": [
       "<style  type=\"text/css\" >\n",
       "</style><table id=\"T_26126eac_5b42_11ea_9a0d_acde48001122\" ><thead>    <tr>        <th class=\"blank level0\" ></th>        <th class=\"col_heading level0 col0\" >Purchase Count</th>        <th class=\"col_heading level0 col1\" >Average Purchase Price</th>        <th class=\"col_heading level0 col2\" >Total Purchase Value</th>        <th class=\"col_heading level0 col3\" >Avg Total Purchase per Person</th>    </tr>    <tr>        <th class=\"index_name level0\" >Age Ranges</th>        <th class=\"blank\" ></th>        <th class=\"blank\" ></th>        <th class=\"blank\" ></th>        <th class=\"blank\" ></th>    </tr></thead><tbody>\n",
       "                <tr>\n",
       "                        <th id=\"T_26126eac_5b42_11ea_9a0d_acde48001122level0_row0\" class=\"row_heading level0 row0\" ><10</th>\n",
       "                        <td id=\"T_26126eac_5b42_11ea_9a0d_acde48001122row0_col0\" class=\"data row0 col0\" >23</td>\n",
       "                        <td id=\"T_26126eac_5b42_11ea_9a0d_acde48001122row0_col1\" class=\"data row0 col1\" >$3.35</td>\n",
       "                        <td id=\"T_26126eac_5b42_11ea_9a0d_acde48001122row0_col2\" class=\"data row0 col2\" >$77.13</td>\n",
       "                        <td id=\"T_26126eac_5b42_11ea_9a0d_acde48001122row0_col3\" class=\"data row0 col3\" >$4.54</td>\n",
       "            </tr>\n",
       "            <tr>\n",
       "                        <th id=\"T_26126eac_5b42_11ea_9a0d_acde48001122level0_row1\" class=\"row_heading level0 row1\" >10-14</th>\n",
       "                        <td id=\"T_26126eac_5b42_11ea_9a0d_acde48001122row1_col0\" class=\"data row1 col0\" >28</td>\n",
       "                        <td id=\"T_26126eac_5b42_11ea_9a0d_acde48001122row1_col1\" class=\"data row1 col1\" >$2.96</td>\n",
       "                        <td id=\"T_26126eac_5b42_11ea_9a0d_acde48001122row1_col2\" class=\"data row1 col2\" >$82.78</td>\n",
       "                        <td id=\"T_26126eac_5b42_11ea_9a0d_acde48001122row1_col3\" class=\"data row1 col3\" >$3.76</td>\n",
       "            </tr>\n",
       "            <tr>\n",
       "                        <th id=\"T_26126eac_5b42_11ea_9a0d_acde48001122level0_row2\" class=\"row_heading level0 row2\" >15-19</th>\n",
       "                        <td id=\"T_26126eac_5b42_11ea_9a0d_acde48001122row2_col0\" class=\"data row2 col0\" >136</td>\n",
       "                        <td id=\"T_26126eac_5b42_11ea_9a0d_acde48001122row2_col1\" class=\"data row2 col1\" >$3.04</td>\n",
       "                        <td id=\"T_26126eac_5b42_11ea_9a0d_acde48001122row2_col2\" class=\"data row2 col2\" >$412.89</td>\n",
       "                        <td id=\"T_26126eac_5b42_11ea_9a0d_acde48001122row2_col3\" class=\"data row2 col3\" >$3.86</td>\n",
       "            </tr>\n",
       "            <tr>\n",
       "                        <th id=\"T_26126eac_5b42_11ea_9a0d_acde48001122level0_row3\" class=\"row_heading level0 row3\" >20-24</th>\n",
       "                        <td id=\"T_26126eac_5b42_11ea_9a0d_acde48001122row3_col0\" class=\"data row3 col0\" >365</td>\n",
       "                        <td id=\"T_26126eac_5b42_11ea_9a0d_acde48001122row3_col1\" class=\"data row3 col1\" >$3.05</td>\n",
       "                        <td id=\"T_26126eac_5b42_11ea_9a0d_acde48001122row3_col2\" class=\"data row3 col2\" >$1,114.06</td>\n",
       "                        <td id=\"T_26126eac_5b42_11ea_9a0d_acde48001122row3_col3\" class=\"data row3 col3\" >$4.32</td>\n",
       "            </tr>\n",
       "            <tr>\n",
       "                        <th id=\"T_26126eac_5b42_11ea_9a0d_acde48001122level0_row4\" class=\"row_heading level0 row4\" >25-29</th>\n",
       "                        <td id=\"T_26126eac_5b42_11ea_9a0d_acde48001122row4_col0\" class=\"data row4 col0\" >101</td>\n",
       "                        <td id=\"T_26126eac_5b42_11ea_9a0d_acde48001122row4_col1\" class=\"data row4 col1\" >$2.90</td>\n",
       "                        <td id=\"T_26126eac_5b42_11ea_9a0d_acde48001122row4_col2\" class=\"data row4 col2\" >$293.00</td>\n",
       "                        <td id=\"T_26126eac_5b42_11ea_9a0d_acde48001122row4_col3\" class=\"data row4 col3\" >$3.81</td>\n",
       "            </tr>\n",
       "            <tr>\n",
       "                        <th id=\"T_26126eac_5b42_11ea_9a0d_acde48001122level0_row5\" class=\"row_heading level0 row5\" >30-34</th>\n",
       "                        <td id=\"T_26126eac_5b42_11ea_9a0d_acde48001122row5_col0\" class=\"data row5 col0\" >73</td>\n",
       "                        <td id=\"T_26126eac_5b42_11ea_9a0d_acde48001122row5_col1\" class=\"data row5 col1\" >$2.93</td>\n",
       "                        <td id=\"T_26126eac_5b42_11ea_9a0d_acde48001122row5_col2\" class=\"data row5 col2\" >$214.00</td>\n",
       "                        <td id=\"T_26126eac_5b42_11ea_9a0d_acde48001122row5_col3\" class=\"data row5 col3\" >$4.12</td>\n",
       "            </tr>\n",
       "            <tr>\n",
       "                        <th id=\"T_26126eac_5b42_11ea_9a0d_acde48001122level0_row6\" class=\"row_heading level0 row6\" >35-39</th>\n",
       "                        <td id=\"T_26126eac_5b42_11ea_9a0d_acde48001122row6_col0\" class=\"data row6 col0\" >41</td>\n",
       "                        <td id=\"T_26126eac_5b42_11ea_9a0d_acde48001122row6_col1\" class=\"data row6 col1\" >$3.60</td>\n",
       "                        <td id=\"T_26126eac_5b42_11ea_9a0d_acde48001122row6_col2\" class=\"data row6 col2\" >$147.67</td>\n",
       "                        <td id=\"T_26126eac_5b42_11ea_9a0d_acde48001122row6_col3\" class=\"data row6 col3\" >$4.76</td>\n",
       "            </tr>\n",
       "            <tr>\n",
       "                        <th id=\"T_26126eac_5b42_11ea_9a0d_acde48001122level0_row7\" class=\"row_heading level0 row7\" >40+</th>\n",
       "                        <td id=\"T_26126eac_5b42_11ea_9a0d_acde48001122row7_col0\" class=\"data row7 col0\" >13</td>\n",
       "                        <td id=\"T_26126eac_5b42_11ea_9a0d_acde48001122row7_col1\" class=\"data row7 col1\" >$2.94</td>\n",
       "                        <td id=\"T_26126eac_5b42_11ea_9a0d_acde48001122row7_col2\" class=\"data row7 col2\" >$38.24</td>\n",
       "                        <td id=\"T_26126eac_5b42_11ea_9a0d_acde48001122row7_col3\" class=\"data row7 col3\" >$3.19</td>\n",
       "            </tr>\n",
       "    </tbody></table>"
      ],
      "text/plain": [
       "<pandas.io.formats.style.Styler at 0x7fc8bb19b650>"
      ]
     },
     "execution_count": 172,
     "metadata": {},
     "output_type": "execute_result"
    }
   ],
   "source": [
    "#Brute force FTW!!!\n",
    "#Filter the data so that only specific age purchase data is in a DF\n",
    "less10_purchase_data = purchase_data.loc[purchase_data[\"Age Demographics\"] == \"<10\"]\n",
    "ten_fourteen_purchase_data = purchase_data.loc[purchase_data[\"Age Demographics\"] == \"10-14\"]\n",
    "fifteen_nineteen_purchase_data = purchase_data.loc[purchase_data[\"Age Demographics\"] == \"15-19\"]\n",
    "twenty_twentyfour_purchase_data = purchase_data.loc[purchase_data[\"Age Demographics\"] == \"20-24\"]\n",
    "twentyfive_twentynine_purchase_data = purchase_data.loc[purchase_data[\"Age Demographics\"] == \"25-29\"]\n",
    "thirty_thirtyfour_purchase_data = purchase_data.loc[purchase_data[\"Age Demographics\"] == \"30-34\"]\n",
    "thirtyfive_thirtynine_purchase_data = purchase_data.loc[purchase_data[\"Age Demographics\"] == \"35-39\"]\n",
    "greater40_purchase_data = purchase_data.loc[purchase_data[\"Age Demographics\"] == \"40+\"]\n",
    "\n",
    "#Get the purchase counts for each age group\n",
    "less10_purchase_count = (less10_purchase_data[\"Purchase ID\"].count())\n",
    "ten_fourteen_purchase_count = (ten_fourteen_purchase_data[\"Purchase ID\"].count())\n",
    "fifteen_nineteen_purchase_count = (fifteen_nineteen_purchase_data[\"Purchase ID\"].count())\n",
    "twenty_twentyfour_purchase_count = (twenty_twentyfour_purchase_data[\"Purchase ID\"].count())\n",
    "twentyfive_twentynine_purchase_count = (twentyfive_twentynine_purchase_data[\"Purchase ID\"].count())\n",
    "thirty_thirtyfour_purchase_count = (thirty_thirtyfour_purchase_data[\"Purchase ID\"].count())\n",
    "thirtyfive_thirtynine_purchase_count = (thirtyfive_thirtynine_purchase_data[\"Purchase ID\"].count())\n",
    "greater40_purchase_count = (greater40_purchase_data[\"Purchase ID\"].count())\n",
    "\n",
    "# Get the average purchase price in this age group\n",
    "less10_avg_purchase_price = round((less10_purchase_data[\"Price\"].mean()),2)\n",
    "ten_fourteen_avg_purchase_price = round((ten_fourteen_purchase_data[\"Price\"].mean()),2)\n",
    "fifteen_nineteen_avg_purchase_price = round((fifteen_nineteen_purchase_data[\"Price\"].mean()),2)\n",
    "twenty_twentyfour_avg_purchase_price = round((twenty_twentyfour_purchase_data[\"Price\"].mean()),2)\n",
    "twentyfive_twentynine_avg_purchase_price = round((twentyfive_twentynine_purchase_data[\"Price\"].mean()),2)\n",
    "thirty_thirtyfour_avg_purchase_price = round((thirty_thirtyfour_purchase_data[\"Price\"].mean()),2)\n",
    "thirtyfive_thirtynine_avg_purchase_price = round((thirtyfive_thirtynine_purchase_data[\"Price\"].mean()),2)\n",
    "greater40_avg_purchase_price = round((greater40_purchase_data[\"Price\"].mean()),2)\n",
    "\n",
    "# Get the total purchase value in this age group\n",
    "less10_total_revenue = less10_purchase_data[\"Price\"].sum()\n",
    "ten_fourteen_total_revenue = ten_fourteen_purchase_data[\"Price\"].sum()\n",
    "fifteen_nineteen_total_revenue = fifteen_nineteen_purchase_data[\"Price\"].sum()\n",
    "twenty_twentyfour_total_revenue = twenty_twentyfour_purchase_data[\"Price\"].sum()\n",
    "twentyfive_twentynine_total_revenue = twentyfive_twentynine_purchase_data[\"Price\"].sum()\n",
    "thirty_thirtyfour_total_revenue = thirty_thirtyfour_purchase_data[\"Price\"].sum()\n",
    "thirtyfive_thirtynine_total_revenue = thirtyfive_thirtynine_purchase_data[\"Price\"].sum()\n",
    "greater40_total_revenue = greater40_purchase_data[\"Price\"].sum()\n",
    "\n",
    "# Using GroupBy in order to separate the data into fields according to \"SN\" values\n",
    "grouped_less10_purchase_data = less10_purchase_data.groupby(\"SN\")\n",
    "grouped_ten_fourteen_purchase_data = ten_fourteen_purchase_data.groupby(\"SN\")\n",
    "grouped_fifteen_nineteen_purchase_data = fifteen_nineteen_purchase_data.groupby(\"SN\")\n",
    "grouped_twenty_twentyfour_purchase_data = twenty_twentyfour_purchase_data.groupby(\"SN\") \n",
    "grouped_twentyfive_twentynine_purchase_data = twentyfive_twentynine_purchase_data.groupby(\"SN\")\n",
    "grouped_thirty_thirtyfour_purchase_data = thirty_thirtyfour_purchase_data.groupby(\"SN\") \n",
    "grouped_thirtyfive_thirtynine_purchase_data = thirtyfive_thirtynine_purchase_data.groupby(\"SN\") \n",
    "grouped_greater40_purchase_data = greater40_purchase_data.groupby(\"SN\")\n",
    "\n",
    "#Get sum of purchases for each SN\n",
    "purchase_by_less10 = grouped_less10_purchase_data[\"Price\"].sum()\n",
    "purchase_by_ten_fourteen = grouped_ten_fourteen_purchase_data[\"Price\"].sum()\n",
    "purchase_by_fifteen_nineteen = grouped_fifteen_nineteen_purchase_data[\"Price\"].sum()\n",
    "purchase_by_twenty_twentyfour = grouped_twenty_twentyfour_purchase_data[\"Price\"].sum()\n",
    "purchase_by_twentyfive_twentynine = grouped_twentyfive_twentynine_purchase_data[\"Price\"].sum()\n",
    "purchase_by_thirty_thirtyfour = grouped_thirty_thirtyfour_purchase_data[\"Price\"].sum()\n",
    "purchase_by_thirtyfive_thirtynine = grouped_thirtyfive_thirtynine_purchase_data[\"Price\"].sum()\n",
    "purchase_by_greater40 = grouped_greater40_purchase_data[\"Price\"].sum()\n",
    "\n",
    "#Create a summary table of total purchases by SN\n",
    "less10_summary_table = pd.DataFrame({\"Total Purchases\": purchase_by_less10})\n",
    "ten_fourteen_summary_table = pd.DataFrame({\"Total Purchases\": purchase_by_ten_fourteen})\n",
    "fifteen_nineteen_summary_table = pd.DataFrame({\"Total Purchases\": purchase_by_fifteen_nineteen})\n",
    "twenty_twentyfour_summary_table = pd.DataFrame({\"Total Purchases\": purchase_by_twenty_twentyfour})\n",
    "twentyfive_twentynine_summary_table = pd.DataFrame({\"Total Purchases\": purchase_by_twentyfive_twentynine})\n",
    "thirty_thirtyfour_summary_table = pd.DataFrame({\"Total Purchases\": purchase_by_thirty_thirtyfour})\n",
    "thirtyfive_thirtynine_summary_table = pd.DataFrame({\"Total Purchases\": purchase_by_thirtyfive_thirtynine})\n",
    "greater40_summary_table = pd.DataFrame({\"Total Purchases\": purchase_by_greater40})\n",
    "\n",
    "#Calculate the mean purchase by SN\n",
    "avg_less10_purchase_price = round((less10_summary_table[\"Total Purchases\"].mean()),2)\n",
    "avg_ten_fourteen_purchase_price = round((ten_fourteen_summary_table[\"Total Purchases\"].mean()),2)\n",
    "avg_fifteen_nineteen_purchase_price = round((fifteen_nineteen_summary_table[\"Total Purchases\"].mean()),2)\n",
    "avg_twenty_twentyfour_purchase_price = round((twenty_twentyfour_summary_table[\"Total Purchases\"].mean()),2)\n",
    "avg_twentyfive_twentynine_purchase_price = round((twentyfive_twentynine_summary_table[\"Total Purchases\"].mean()),2)\n",
    "avg_thirty_thirtyfour_purchase_price = round((thirty_thirtyfour_summary_table[\"Total Purchases\"].mean()),2)\n",
    "avg_thirtyfive_thirtynine_purchase_price = round((thirtyfive_thirtynine_summary_table[\"Total Purchases\"].mean()),2)\n",
    "avg_greater40_purchase_price = round((greater40_summary_table[\"Total Purchases\"].mean()),2)\n",
    "# Place all of the data found into a summary DataFrame\n",
    "age_summary_table = pd.DataFrame({\"Age Ranges\": [\"<10\", \"10-14\", \"15-19\", \"20-24\", \"25-29\", \"30-34\", \"35-39\", \"40+\"],\n",
    "                               \"Purchase Count\": [less10_purchase_count, ten_fourteen_purchase_count, fifteen_nineteen_purchase_count, twenty_twentyfour_purchase_count, twentyfive_twentynine_purchase_count, thirty_thirtyfour_purchase_count, thirtyfive_thirtynine_purchase_count, greater40_purchase_count],\n",
    "                                \"Average Purchase Price\": [less10_avg_purchase_price, ten_fourteen_avg_purchase_price, fifteen_nineteen_avg_purchase_price, twenty_twentyfour_avg_purchase_price, twentyfive_twentynine_avg_purchase_price, thirty_thirtyfour_avg_purchase_price, thirtyfive_thirtynine_avg_purchase_price, greater40_avg_purchase_price],\n",
    "                                  \"Total Purchase Value\" :[less10_total_revenue, ten_fourteen_total_revenue, fifteen_nineteen_total_revenue, twenty_twentyfour_total_revenue, twentyfive_twentynine_total_revenue, thirty_thirtyfour_total_revenue, thirtyfive_thirtynine_total_revenue, greater40_total_revenue],\n",
    "                                  \"Avg Total Purchase per Person\" :[avg_less10_purchase_price, avg_ten_fourteen_purchase_price, avg_fifteen_nineteen_purchase_price, avg_twenty_twentyfour_purchase_price, avg_twentyfive_twentynine_purchase_price, avg_thirty_thirtyfour_purchase_price, avg_thirtyfive_thirtynine_purchase_price, avg_greater40_purchase_price]\n",
    "                                 })\n",
    "\n",
    "new_age_summary_table = age_summary_table.set_index(\"Age Ranges\")\n",
    "new_age_summary_table.style.format({\"Average Purchase Price\": \"${:,.2f}\", \"Total Purchase Value\": \"${:,.2f}\",\n",
    "                                   \"Avg Total Purchase per Person\": \"${:,.2f}\"})"
   ]
  },
  {
   "cell_type": "markdown",
   "metadata": {},
   "source": [
    "## Top Spenders"
   ]
  },
  {
   "cell_type": "markdown",
   "metadata": {},
   "source": [
    "* Run basic calculations to obtain the results in the table below\n",
    "\n",
    "\n",
    "* Create a summary data frame to hold the results\n",
    "\n",
    "\n",
    "* Sort the total purchase value column in descending order\n",
    "\n",
    "\n",
    "* Optional: give the displayed data cleaner formatting\n",
    "\n",
    "\n",
    "* Display a preview of the summary data frame\n",
    "\n"
   ]
  },
  {
   "cell_type": "code",
   "execution_count": 173,
   "metadata": {},
   "outputs": [
    {
     "data": {
      "text/html": [
       "<style  type=\"text/css\" >\n",
       "</style><table id=\"T_2877bac6_5b42_11ea_9a0d_acde48001122\" ><thead>    <tr>        <th class=\"blank level0\" ></th>        <th class=\"col_heading level0 col0\" >Purchase Count</th>        <th class=\"col_heading level0 col1\" >Average Purchase Price</th>        <th class=\"col_heading level0 col2\" >Total Purchase Value</th>    </tr>    <tr>        <th class=\"index_name level0\" >SN</th>        <th class=\"blank\" ></th>        <th class=\"blank\" ></th>        <th class=\"blank\" ></th>    </tr></thead><tbody>\n",
       "                <tr>\n",
       "                        <th id=\"T_2877bac6_5b42_11ea_9a0d_acde48001122level0_row0\" class=\"row_heading level0 row0\" >Lisosia93</th>\n",
       "                        <td id=\"T_2877bac6_5b42_11ea_9a0d_acde48001122row0_col0\" class=\"data row0 col0\" >5</td>\n",
       "                        <td id=\"T_2877bac6_5b42_11ea_9a0d_acde48001122row0_col1\" class=\"data row0 col1\" >$3.79</td>\n",
       "                        <td id=\"T_2877bac6_5b42_11ea_9a0d_acde48001122row0_col2\" class=\"data row0 col2\" >$18.96</td>\n",
       "            </tr>\n",
       "            <tr>\n",
       "                        <th id=\"T_2877bac6_5b42_11ea_9a0d_acde48001122level0_row1\" class=\"row_heading level0 row1\" >Idastidru52</th>\n",
       "                        <td id=\"T_2877bac6_5b42_11ea_9a0d_acde48001122row1_col0\" class=\"data row1 col0\" >4</td>\n",
       "                        <td id=\"T_2877bac6_5b42_11ea_9a0d_acde48001122row1_col1\" class=\"data row1 col1\" >$3.86</td>\n",
       "                        <td id=\"T_2877bac6_5b42_11ea_9a0d_acde48001122row1_col2\" class=\"data row1 col2\" >$15.45</td>\n",
       "            </tr>\n",
       "            <tr>\n",
       "                        <th id=\"T_2877bac6_5b42_11ea_9a0d_acde48001122level0_row2\" class=\"row_heading level0 row2\" >Chamjask73</th>\n",
       "                        <td id=\"T_2877bac6_5b42_11ea_9a0d_acde48001122row2_col0\" class=\"data row2 col0\" >3</td>\n",
       "                        <td id=\"T_2877bac6_5b42_11ea_9a0d_acde48001122row2_col1\" class=\"data row2 col1\" >$4.61</td>\n",
       "                        <td id=\"T_2877bac6_5b42_11ea_9a0d_acde48001122row2_col2\" class=\"data row2 col2\" >$13.83</td>\n",
       "            </tr>\n",
       "            <tr>\n",
       "                        <th id=\"T_2877bac6_5b42_11ea_9a0d_acde48001122level0_row3\" class=\"row_heading level0 row3\" >Iral74</th>\n",
       "                        <td id=\"T_2877bac6_5b42_11ea_9a0d_acde48001122row3_col0\" class=\"data row3 col0\" >4</td>\n",
       "                        <td id=\"T_2877bac6_5b42_11ea_9a0d_acde48001122row3_col1\" class=\"data row3 col1\" >$3.40</td>\n",
       "                        <td id=\"T_2877bac6_5b42_11ea_9a0d_acde48001122row3_col2\" class=\"data row3 col2\" >$13.62</td>\n",
       "            </tr>\n",
       "            <tr>\n",
       "                        <th id=\"T_2877bac6_5b42_11ea_9a0d_acde48001122level0_row4\" class=\"row_heading level0 row4\" >Iskadarya95</th>\n",
       "                        <td id=\"T_2877bac6_5b42_11ea_9a0d_acde48001122row4_col0\" class=\"data row4 col0\" >3</td>\n",
       "                        <td id=\"T_2877bac6_5b42_11ea_9a0d_acde48001122row4_col1\" class=\"data row4 col1\" >$4.37</td>\n",
       "                        <td id=\"T_2877bac6_5b42_11ea_9a0d_acde48001122row4_col2\" class=\"data row4 col2\" >$13.10</td>\n",
       "            </tr>\n",
       "    </tbody></table>"
      ],
      "text/plain": [
       "<pandas.io.formats.style.Styler at 0x7fc8bb1386d0>"
      ]
     },
     "execution_count": 173,
     "metadata": {},
     "output_type": "execute_result"
    }
   ],
   "source": [
    "# Create a grouping by SN.\n",
    "grouped_sn = purchase_data.groupby([\"SN\"])\n",
    "\n",
    "#Using the groupby SN, calculate the # of purchases per SN.\n",
    "sn_purchase_count = grouped_sn.count()[\"Purchase ID\"]\n",
    "\n",
    "#Using the groupby SN, calculate the total purchases per SN.\n",
    "total_purchase_sn = grouped_sn.sum()[\"Price\"]\n",
    "\n",
    "#Using the groupby SN, calculate the average of each purchase for each SN.\n",
    "avg_purchase_total_sn = grouped_sn.mean()[\"Price\"]\n",
    "\n",
    "# Create a new dataframe with the calculations.\n",
    "top_spenders = pd.DataFrame({\"Purchase Count\": sn_purchase_count,\"Average Purchase Price\":avg_purchase_total_sn, \"Total Purchase Value\":total_purchase_sn})\n",
    "\n",
    "# Sort the values by Total Purchase Value.\n",
    "top_spenders.sort_values(\"Total Purchase Value\", ascending=False, inplace=True)\n",
    "\n",
    "# Create a new list with just the top 5.\n",
    "five_spenders = top_spenders.head(5)\n",
    "\n",
    "# Fix the formatting and display the outpt.\n",
    "five_spenders.style.format({\"Average Purchase Price\": \"${:,.2f}\", \"Total Purchase Value\": \"${:,.2f}\"})"
   ]
  },
  {
   "cell_type": "markdown",
   "metadata": {},
   "source": [
    "## Most Popular Items"
   ]
  },
  {
   "cell_type": "markdown",
   "metadata": {},
   "source": [
    "Retrieve the Item ID, Item Name, and Item Price columns\n",
    "Group by Item ID and Item Name. Perform calculations to obtain purchase count, item price, and total purchase value\n",
    "Create a summary data frame to hold the results\n",
    "Sort the purchase count column in descending order\n",
    "Optional: give the displayed data cleaner formatting\n",
    "Display a preview of the summary data frame"
   ]
  },
  {
   "cell_type": "code",
   "execution_count": 174,
   "metadata": {},
   "outputs": [
    {
     "data": {
      "text/html": [
       "<style  type=\"text/css\" >\n",
       "</style><table id=\"T_2a0eb7d6_5b42_11ea_9a0d_acde48001122\" ><thead>    <tr>        <th class=\"blank\" ></th>        <th class=\"blank level0\" ></th>        <th class=\"col_heading level0 col0\" >Purchase Count</th>        <th class=\"col_heading level0 col1\" >Item Price</th>        <th class=\"col_heading level0 col2\" >Total Purchase Value</th>    </tr>    <tr>        <th class=\"index_name level0\" >Item ID</th>        <th class=\"index_name level1\" >Item Name</th>        <th class=\"blank\" ></th>        <th class=\"blank\" ></th>        <th class=\"blank\" ></th>    </tr></thead><tbody>\n",
       "                <tr>\n",
       "                        <th id=\"T_2a0eb7d6_5b42_11ea_9a0d_acde48001122level0_row0\" class=\"row_heading level0 row0\" >178</th>\n",
       "                        <th id=\"T_2a0eb7d6_5b42_11ea_9a0d_acde48001122level1_row0\" class=\"row_heading level1 row0\" >Oathbreaker, Last Hope of the Breaking Storm</th>\n",
       "                        <td id=\"T_2a0eb7d6_5b42_11ea_9a0d_acde48001122row0_col0\" class=\"data row0 col0\" >12</td>\n",
       "                        <td id=\"T_2a0eb7d6_5b42_11ea_9a0d_acde48001122row0_col1\" class=\"data row0 col1\" >$4.23</td>\n",
       "                        <td id=\"T_2a0eb7d6_5b42_11ea_9a0d_acde48001122row0_col2\" class=\"data row0 col2\" >$50.76</td>\n",
       "            </tr>\n",
       "            <tr>\n",
       "                        <th id=\"T_2a0eb7d6_5b42_11ea_9a0d_acde48001122level0_row1\" class=\"row_heading level0 row1\" >145</th>\n",
       "                        <th id=\"T_2a0eb7d6_5b42_11ea_9a0d_acde48001122level1_row1\" class=\"row_heading level1 row1\" >Fiery Glass Crusader</th>\n",
       "                        <td id=\"T_2a0eb7d6_5b42_11ea_9a0d_acde48001122row1_col0\" class=\"data row1 col0\" >9</td>\n",
       "                        <td id=\"T_2a0eb7d6_5b42_11ea_9a0d_acde48001122row1_col1\" class=\"data row1 col1\" >$4.58</td>\n",
       "                        <td id=\"T_2a0eb7d6_5b42_11ea_9a0d_acde48001122row1_col2\" class=\"data row1 col2\" >$41.22</td>\n",
       "            </tr>\n",
       "            <tr>\n",
       "                        <th id=\"T_2a0eb7d6_5b42_11ea_9a0d_acde48001122level0_row2\" class=\"row_heading level0 row2\" >108</th>\n",
       "                        <th id=\"T_2a0eb7d6_5b42_11ea_9a0d_acde48001122level1_row2\" class=\"row_heading level1 row2\" >Extraction, Quickblade Of Trembling Hands</th>\n",
       "                        <td id=\"T_2a0eb7d6_5b42_11ea_9a0d_acde48001122row2_col0\" class=\"data row2 col0\" >9</td>\n",
       "                        <td id=\"T_2a0eb7d6_5b42_11ea_9a0d_acde48001122row2_col1\" class=\"data row2 col1\" >$3.53</td>\n",
       "                        <td id=\"T_2a0eb7d6_5b42_11ea_9a0d_acde48001122row2_col2\" class=\"data row2 col2\" >$31.77</td>\n",
       "            </tr>\n",
       "            <tr>\n",
       "                        <th id=\"T_2a0eb7d6_5b42_11ea_9a0d_acde48001122level0_row3\" class=\"row_heading level0 row3\" >82</th>\n",
       "                        <th id=\"T_2a0eb7d6_5b42_11ea_9a0d_acde48001122level1_row3\" class=\"row_heading level1 row3\" >Nirvana</th>\n",
       "                        <td id=\"T_2a0eb7d6_5b42_11ea_9a0d_acde48001122row3_col0\" class=\"data row3 col0\" >9</td>\n",
       "                        <td id=\"T_2a0eb7d6_5b42_11ea_9a0d_acde48001122row3_col1\" class=\"data row3 col1\" >$4.90</td>\n",
       "                        <td id=\"T_2a0eb7d6_5b42_11ea_9a0d_acde48001122row3_col2\" class=\"data row3 col2\" >$44.10</td>\n",
       "            </tr>\n",
       "            <tr>\n",
       "                        <th id=\"T_2a0eb7d6_5b42_11ea_9a0d_acde48001122level0_row4\" class=\"row_heading level0 row4\" >19</th>\n",
       "                        <th id=\"T_2a0eb7d6_5b42_11ea_9a0d_acde48001122level1_row4\" class=\"row_heading level1 row4\" >Pursuit, Cudgel of Necromancy</th>\n",
       "                        <td id=\"T_2a0eb7d6_5b42_11ea_9a0d_acde48001122row4_col0\" class=\"data row4 col0\" >8</td>\n",
       "                        <td id=\"T_2a0eb7d6_5b42_11ea_9a0d_acde48001122row4_col1\" class=\"data row4 col1\" >$1.02</td>\n",
       "                        <td id=\"T_2a0eb7d6_5b42_11ea_9a0d_acde48001122row4_col2\" class=\"data row4 col2\" >$8.16</td>\n",
       "            </tr>\n",
       "    </tbody></table>"
      ],
      "text/plain": [
       "<pandas.io.formats.style.Styler at 0x7fc848021310>"
      ]
     },
     "execution_count": 174,
     "metadata": {},
     "output_type": "execute_result"
    }
   ],
   "source": [
    "# Create a grouping by item.\n",
    "grouped_item = purchase_data.groupby([\"Item ID\", \"Item Name\"])\n",
    "\n",
    "#Using the groupby item, calculate the # of purchases per Item.\n",
    "item_purchase_count = grouped_item.count()[\"Purchase ID\"]\n",
    "\n",
    "#Using the groupby item, calculate the total purchases per SN.\n",
    "item_price = grouped_item.mean()[\"Price\"]\n",
    "\n",
    "#Using the groupby item, calculate the average of each purchase for each SN.\n",
    "total_purchase_item = grouped_item.sum()[\"Price\"]\n",
    "\n",
    "# Create a new dataframe with the calculations.\n",
    "top_items = pd.DataFrame({\"Purchase Count\": item_purchase_count,\n",
    "                             \"Item Price\":item_price, \n",
    "                             \"Total Purchase Value\":total_purchase_item})\n",
    "\n",
    "# Sort the values by Total Purchase Value.\n",
    "top_items.sort_values(\"Purchase Count\", ascending=False, inplace=True)\n",
    "\n",
    "# Create a new list with just the top 5.\n",
    "five_items = top_items.head(5)\n",
    "\n",
    "# Fix the formatting and display the outpt.\n",
    "five_items.style.format({\"Item Price\": \"${:,.2f}\", \"Total Purchase Value\": \"${:,.2f}\"})"
   ]
  },
  {
   "cell_type": "markdown",
   "metadata": {},
   "source": [
    "## Most Profitable Items"
   ]
  },
  {
   "cell_type": "markdown",
   "metadata": {},
   "source": [
    "* Sort the above table by total purchase value in descending order\n",
    "\n",
    "\n",
    "* Optional: give the displayed data cleaner formatting\n",
    "\n",
    "\n",
    "* Display a preview of the data frame\n",
    "\n"
   ]
  },
  {
   "cell_type": "code",
   "execution_count": 175,
   "metadata": {
    "scrolled": true
   },
   "outputs": [
    {
     "data": {
      "text/html": [
       "<style  type=\"text/css\" >\n",
       "</style><table id=\"T_2be04926_5b42_11ea_9a0d_acde48001122\" ><thead>    <tr>        <th class=\"blank\" ></th>        <th class=\"blank level0\" ></th>        <th class=\"col_heading level0 col0\" >Purchase Count</th>        <th class=\"col_heading level0 col1\" >Item Price</th>        <th class=\"col_heading level0 col2\" >Total Purchase Value</th>    </tr>    <tr>        <th class=\"index_name level0\" >Item ID</th>        <th class=\"index_name level1\" >Item Name</th>        <th class=\"blank\" ></th>        <th class=\"blank\" ></th>        <th class=\"blank\" ></th>    </tr></thead><tbody>\n",
       "                <tr>\n",
       "                        <th id=\"T_2be04926_5b42_11ea_9a0d_acde48001122level0_row0\" class=\"row_heading level0 row0\" >178</th>\n",
       "                        <th id=\"T_2be04926_5b42_11ea_9a0d_acde48001122level1_row0\" class=\"row_heading level1 row0\" >Oathbreaker, Last Hope of the Breaking Storm</th>\n",
       "                        <td id=\"T_2be04926_5b42_11ea_9a0d_acde48001122row0_col0\" class=\"data row0 col0\" >12</td>\n",
       "                        <td id=\"T_2be04926_5b42_11ea_9a0d_acde48001122row0_col1\" class=\"data row0 col1\" >$4.23</td>\n",
       "                        <td id=\"T_2be04926_5b42_11ea_9a0d_acde48001122row0_col2\" class=\"data row0 col2\" >$50.76</td>\n",
       "            </tr>\n",
       "            <tr>\n",
       "                        <th id=\"T_2be04926_5b42_11ea_9a0d_acde48001122level0_row1\" class=\"row_heading level0 row1\" >82</th>\n",
       "                        <th id=\"T_2be04926_5b42_11ea_9a0d_acde48001122level1_row1\" class=\"row_heading level1 row1\" >Nirvana</th>\n",
       "                        <td id=\"T_2be04926_5b42_11ea_9a0d_acde48001122row1_col0\" class=\"data row1 col0\" >9</td>\n",
       "                        <td id=\"T_2be04926_5b42_11ea_9a0d_acde48001122row1_col1\" class=\"data row1 col1\" >$4.90</td>\n",
       "                        <td id=\"T_2be04926_5b42_11ea_9a0d_acde48001122row1_col2\" class=\"data row1 col2\" >$44.10</td>\n",
       "            </tr>\n",
       "            <tr>\n",
       "                        <th id=\"T_2be04926_5b42_11ea_9a0d_acde48001122level0_row2\" class=\"row_heading level0 row2\" >145</th>\n",
       "                        <th id=\"T_2be04926_5b42_11ea_9a0d_acde48001122level1_row2\" class=\"row_heading level1 row2\" >Fiery Glass Crusader</th>\n",
       "                        <td id=\"T_2be04926_5b42_11ea_9a0d_acde48001122row2_col0\" class=\"data row2 col0\" >9</td>\n",
       "                        <td id=\"T_2be04926_5b42_11ea_9a0d_acde48001122row2_col1\" class=\"data row2 col1\" >$4.58</td>\n",
       "                        <td id=\"T_2be04926_5b42_11ea_9a0d_acde48001122row2_col2\" class=\"data row2 col2\" >$41.22</td>\n",
       "            </tr>\n",
       "            <tr>\n",
       "                        <th id=\"T_2be04926_5b42_11ea_9a0d_acde48001122level0_row3\" class=\"row_heading level0 row3\" >92</th>\n",
       "                        <th id=\"T_2be04926_5b42_11ea_9a0d_acde48001122level1_row3\" class=\"row_heading level1 row3\" >Final Critic</th>\n",
       "                        <td id=\"T_2be04926_5b42_11ea_9a0d_acde48001122row3_col0\" class=\"data row3 col0\" >8</td>\n",
       "                        <td id=\"T_2be04926_5b42_11ea_9a0d_acde48001122row3_col1\" class=\"data row3 col1\" >$4.88</td>\n",
       "                        <td id=\"T_2be04926_5b42_11ea_9a0d_acde48001122row3_col2\" class=\"data row3 col2\" >$39.04</td>\n",
       "            </tr>\n",
       "            <tr>\n",
       "                        <th id=\"T_2be04926_5b42_11ea_9a0d_acde48001122level0_row4\" class=\"row_heading level0 row4\" >103</th>\n",
       "                        <th id=\"T_2be04926_5b42_11ea_9a0d_acde48001122level1_row4\" class=\"row_heading level1 row4\" >Singed Scalpel</th>\n",
       "                        <td id=\"T_2be04926_5b42_11ea_9a0d_acde48001122row4_col0\" class=\"data row4 col0\" >8</td>\n",
       "                        <td id=\"T_2be04926_5b42_11ea_9a0d_acde48001122row4_col1\" class=\"data row4 col1\" >$4.35</td>\n",
       "                        <td id=\"T_2be04926_5b42_11ea_9a0d_acde48001122row4_col2\" class=\"data row4 col2\" >$34.80</td>\n",
       "            </tr>\n",
       "    </tbody></table>"
      ],
      "text/plain": [
       "<pandas.io.formats.style.Styler at 0x7fc8bb139e50>"
      ]
     },
     "execution_count": 175,
     "metadata": {},
     "output_type": "execute_result"
    }
   ],
   "source": [
    "# Sort the values by Total Purchase Value.\n",
    "top_items.sort_values(\"Total Purchase Value\", ascending=False, inplace=True)\n",
    "\n",
    "# Create a new list with just the top 5.\n",
    "five_purchase_items = top_items.head(5)\n",
    "\n",
    "# Fix the formatting and display the outpt.\n",
    "five_purchase_items.style.format({\"Item Price\": \"${:,.2f}\", \"Total Purchase Value\": \"${:,.2f}\"})"
   ]
  }
 ],
 "metadata": {
  "anaconda-cloud": {},
  "kernel_info": {
   "name": "python3"
  },
  "kernelspec": {
   "display_name": "Python 3",
   "language": "python",
   "name": "python3"
  },
  "language_info": {
   "codemirror_mode": {
    "name": "ipython",
    "version": 3
   },
   "file_extension": ".py",
   "mimetype": "text/x-python",
   "name": "python",
   "nbconvert_exporter": "python",
   "pygments_lexer": "ipython3",
   "version": "3.7.4"
  },
  "latex_envs": {
   "LaTeX_envs_menu_present": true,
   "autoclose": false,
   "autocomplete": true,
   "bibliofile": "biblio.bib",
   "cite_by": "apalike",
   "current_citInitial": 1,
   "eqLabelWithNumbers": true,
   "eqNumInitial": 1,
   "hotkeys": {
    "equation": "Ctrl-E",
    "itemize": "Ctrl-I"
   },
   "labels_anchors": false,
   "latex_user_defs": false,
   "report_style_numbering": false,
   "user_envs_cfg": false
  },
  "nteract": {
   "version": "0.2.0"
  }
 },
 "nbformat": 4,
 "nbformat_minor": 2
}
