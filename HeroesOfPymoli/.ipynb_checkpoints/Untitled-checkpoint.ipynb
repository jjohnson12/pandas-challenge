{
 "cells": [
  {
   "cell_type": "code",
   "execution_count": null,
   "metadata": {},
   "outputs": [],
   "source": [
    "#Get the player counts for each age group\n",
    "less10_player_count = (less10_purchase_data[\"SN\"].nunique())\n",
    "ten_fourteen_player_count = (ten_fourteen_purchase_data[\"SN\"].nunique())\n",
    "fifteen_nineteen_player_count = (fifteen_nineteen_purchase_data[\"SN\"].nunique())\n",
    "twenty_twentyfour_player_count = (twenty_twentyfour_purchase_data[\"SN\"].nunique())\n",
    "twentyfive_twentynine_player_count = (twentyfive_twentynine_purchase_data[\"SN\"].nunique())\n",
    "thirty_thirtyfour_player_count = (thirty_thirtyfour_purchase_data[\"SN\"].nunique())\n",
    "thirtyfive_thirtynine_player_count = (thirtyfive_thirtynine_purchase_data[\"SN\"].nunique())\n",
    "greater40_player_count = (greater40_purchase_data[\"SN\"].nunique())\n",
    "\n",
    "#Get the percent of each age group from the total group\n",
    "less10_precent=less10_player_count/player_count\n",
    "ten_fourteen_percent=ten_fourteen_player_count/player_count\n",
    "fifteen_nineteen_percent=fifteen_nineteen_player_count/player_count\n",
    "twenty_twentyfour_percent=twenty_twentyfour_player_count/player_count\n",
    "twentyfive_twentynine_percent=twentyfive_twentynine_player_count/player_count\n",
    "thirty_thirtyfour_percent=thirty_thirtyfour_player_count/player_count\n",
    "thirtyfive_thirtynine_percent=thirtyfive_thirtynine_player_count/player_count\n",
    "greater40_percent=greater40_player_count/player_count\n",
    "\n",
    "print(twenty_twentyfour_percent)"
   ]
  },
  {
   "cell_type": "code",
   "execution_count": null,
   "metadata": {},
   "outputs": [],
   "source": []
  }
 ],
 "metadata": {
  "kernelspec": {
   "display_name": "Python 3",
   "language": "python",
   "name": "python3"
  },
  "language_info": {
   "codemirror_mode": {
    "name": "ipython",
    "version": 3
   },
   "file_extension": ".py",
   "mimetype": "text/x-python",
   "name": "python",
   "nbconvert_exporter": "python",
   "pygments_lexer": "ipython3",
   "version": "3.7.4"
  }
 },
 "nbformat": 4,
 "nbformat_minor": 2
}
